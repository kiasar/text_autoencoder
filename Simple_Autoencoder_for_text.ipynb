{
  "nbformat": 4,
  "nbformat_minor": 0,
  "metadata": {
    "colab": {
      "name": "Simple_Autoencoder_for_text.ipynb",
      "provenance": []
    },
    "kernelspec": {
      "name": "python3",
      "display_name": "Python 3"
    }
  },
  "cells": [
    {
      "cell_type": "code",
      "metadata": {
        "id": "VcANdQ6-u8fs",
        "colab_type": "code",
        "colab": {
          "base_uri": "https://localhost:8080/",
          "height": 72
        },
        "outputId": "77a9afd8-5157-4a67-b770-921355d550e8"
      },
      "source": [
        "import numpy as np\n",
        "import tensorflow as tf\n",
        "\n",
        "import gensim.downloader as api\n",
        "from gensim.models.word2vec import Word2Vec\n",
        "\n",
        "corpus = api.load('text8')\n",
        "w2v = Word2Vec(corpus)\n",
        "w2v.wv.add('<END>', np.random.rand(100))"
      ],
      "execution_count": 75,
      "outputs": [
        {
          "output_type": "stream",
          "text": [
            "/usr/local/lib/python3.6/dist-packages/smart_open/smart_open_lib.py:253: UserWarning: This function is deprecated, use smart_open.open instead. See the migration notes for details: https://github.com/RaRe-Technologies/smart_open/blob/master/README.rst#migrating-to-the-new-open-function\n",
            "  'See the migration notes for details: %s' % _MIGRATION_NOTES_URL\n"
          ],
          "name": "stderr"
        }
      ]
    },
    {
      "cell_type": "code",
      "metadata": {
        "id": "WJ5R53NLvAuu",
        "colab_type": "code",
        "colab": {}
      },
      "source": [
        "class Encoder(tf.keras.layers.Layer):\n",
        "    def __init__(self, intermediate_dim):\n",
        "        super(Encoder, self).__init__()\n",
        "        self.hidden_layer = tf.keras.layers.Dense(units=intermediate_dim, activation=tf.nn.sigmoid)\n",
        "        self.output_layer = tf.keras.layers.Dense(units=intermediate_dim, activation=tf.nn.sigmoid)\n",
        "    \n",
        "    def call(self, input_features):\n",
        "        return self.output_layer(self.hidden_layer(input_features))\n",
        "\n",
        "class Decoder(tf.keras.layers.Layer):\n",
        "    def __init__(self, intermediate_dim, original_dim):\n",
        "        super(Decoder, self).__init__()\n",
        "        self.hidden_layer = tf.keras.layers.Dense(units=intermediate_dim, activation=tf.nn.sigmoid)\n",
        "        self.output_layer = tf.keras.layers.Dense(units=original_dim, activation=tf.nn.sigmoid)\n",
        "  \n",
        "    def call(self, code):\n",
        "        return self.output_layer(self.hidden_layer(code))\n",
        "\n",
        "class Autoencoder(tf.keras.Model):\n",
        "  def __init__(self, intermediate_dim, original_dim):\n",
        "    super(Autoencoder, self).__init__()\n",
        "    self.loss = []\n",
        "    self.encoder = Encoder(intermediate_dim=intermediate_dim)\n",
        "    self.decoder = Decoder(intermediate_dim=intermediate_dim, original_dim=original_dim)\n",
        "\n",
        "  def call(self, input_features):\n",
        "    return self.decoder(self.encoder(input_features))"
      ],
      "execution_count": 0,
      "outputs": []
    },
    {
      "cell_type": "code",
      "metadata": {
        "id": "vV97qVN7vDlh",
        "colab_type": "code",
        "colab": {}
      },
      "source": [
        "def loss(preds, real):\n",
        "  return tf.reduce_mean(tf.square(tf.subtract(preds, real)))"
      ],
      "execution_count": 0,
      "outputs": []
    },
    {
      "cell_type": "code",
      "metadata": {
        "id": "DzrGTMLPvFvf",
        "colab_type": "code",
        "colab": {}
      },
      "source": [
        "def train(loss, model, opt, original):\n",
        "  with tf.GradientTape() as tape:\n",
        "    preds = model(original)\n",
        "    reconstruction_error = loss(preds, original)\n",
        "    gradients = tape.gradient(reconstruction_error, model.trainable_variables)\n",
        "    gradient_variables = zip(gradients, model.trainable_variables)\n",
        "    opt.apply_gradients(gradient_variables)\n",
        "  \n",
        "  return reconstruction_error"
      ],
      "execution_count": 0,
      "outputs": []
    },
    {
      "cell_type": "code",
      "metadata": {
        "id": "If46P2rjvH6G",
        "colab_type": "code",
        "colab": {}
      },
      "source": [
        "def train_loop(model, opt, loss, dataset, epochs, print_steps):\n",
        "  for epoch in range(epochs):\n",
        "    epoch_loss = 0\n",
        "    for step, batch_features in enumerate(dataset):\n",
        "      loss_values = train(loss, model, opt, batch_features)\n",
        "      epoch_loss += loss_values\n",
        "    model.loss.append(epoch_loss)\n",
        "    if (epoch + 1)%print_steps == 0:\n",
        "      print('Epoch {}/{}. Loss: {}'.format(epoch + 1, epochs, epoch_loss.numpy()))"
      ],
      "execution_count": 0,
      "outputs": []
    },
    {
      "cell_type": "code",
      "metadata": {
        "id": "-t99EgDeVGu_",
        "colab_type": "code",
        "colab": {
          "base_uri": "https://localhost:8080/",
          "height": 72
        },
        "outputId": "3f4c3a7a-9c55-424e-e90e-f6d7a9e9dc40"
      },
      "source": [
        "input_text = [\"it is a good day to start\",\n",
        "              \"that sport car is dark red and i love it\",\n",
        "              \"everybody likes dark theme when coding\",\n",
        "              \"i like to move it move it\",\n",
        "              \"i am going to code\",\n",
        "              ]\n",
        "\n",
        "input_text = tf.keras.preprocessing.sequence.pad_sequences(\n",
        "            [i.split() for i in input_text],\n",
        "            padding='post', dtype=object, value='<END>')\n",
        "\n",
        "seq_lenght = len(input_text[0])\n",
        "vector_lenght = seq_lenght*100\n",
        "\n",
        "x_train = [[w2v[j] for j in i] for i in input_text]\n",
        "x_train = np.asarray(x_train, dtype=np.float32)\n",
        "x_train = np.reshape(x_train, (x_train.shape[0], vector_lenght))\n",
        "\n",
        "training_dataset = tf.data.Dataset.from_tensor_slices(x_train).batch(5)"
      ],
      "execution_count": 108,
      "outputs": [
        {
          "output_type": "stream",
          "text": [
            "/usr/local/lib/python3.6/dist-packages/ipykernel_launcher.py:15: DeprecationWarning: Call to deprecated `__getitem__` (Method will be removed in 4.0.0, use self.wv.__getitem__() instead).\n",
            "  from ipykernel import kernelapp as app\n"
          ],
          "name": "stderr"
        }
      ]
    },
    {
      "cell_type": "code",
      "metadata": {
        "id": "Q2R1ABwTvbyw",
        "colab_type": "code",
        "colab": {
          "base_uri": "https://localhost:8080/",
          "height": 367
        },
        "outputId": "f0bc6fae-736b-4a47-961d-028a26ec38d8"
      },
      "source": [
        "model = Autoencoder(intermediate_dim=128, original_dim=vector_lenght)\n",
        "opt = tf.keras.optimizers.Adam(learning_rate=0.01)\n",
        "\n",
        "train_loop(model, opt, loss, training_dataset, 5000, 1000)\n",
        "\n",
        "import matplotlib.pyplot as plt\n",
        "plt.plot(range(len(model.loss)), model.loss)\n",
        "plt.xlabel('Epochs')\n",
        "plt.ylabel('Loss')\n",
        "plt.show()"
      ],
      "execution_count": 109,
      "outputs": [
        {
          "output_type": "stream",
          "text": [
            "Epoch 1000/5000. Loss: 0.9618300795555115\n",
            "Epoch 2000/5000. Loss: 0.9292380809783936\n",
            "Epoch 3000/5000. Loss: 0.9168202877044678\n",
            "Epoch 4000/5000. Loss: 0.905506432056427\n",
            "Epoch 5000/5000. Loss: 0.8959076404571533\n"
          ],
          "name": "stdout"
        },
        {
          "output_type": "display_data",
          "data": {
            "image/png": "[encoded data removed]",
            "text/plain": [
              "<Figure size 432x288 with 1 Axes>"
            ]
          },
          "metadata": {
            "tags": [],
            "needs_background": "light"
          }
        }
      ]
    },
    {
      "cell_type": "code",
      "metadata": {
        "id": "98dvYmmXvhg2",
        "colab_type": "code",
        "colab": {
          "base_uri": "https://localhost:8080/",
          "height": 336
        },
        "outputId": "aee1cd19-226f-4480-8733-0877403b53da"
      },
      "source": [
        "for predict in model(x_train):\n",
        "  predict = predict.numpy().reshape(seq_lenght, 100)\n",
        "  result = [w2v.wv.similar_by_vector(i)[0][0] for i in predict]\n",
        "  print()\n",
        "  print('     ',*[i for i in result if not i=='<END>'])\n",
        "  print('_____________________________________________________________________')"
      ],
      "execution_count": 110,
      "outputs": [
        {
          "output_type": "stream",
          "text": [
            "\n",
            "      it is a good day to start\n",
            "_____________________________________________________________________\n",
            "\n",
            "      that sport car is dark red and i love it\n",
            "_____________________________________________________________________\n",
            "\n",
            "      everyone likes dark theme when coding\n",
            "_____________________________________________________________________\n",
            "\n",
            "      i like to move it move it\n",
            "_____________________________________________________________________\n",
            "\n",
            "      i am going to code\n",
            "_____________________________________________________________________\n"
          ],
          "name": "stdout"
        },
        {
          "output_type": "stream",
          "text": [
            "/usr/local/lib/python3.6/dist-packages/gensim/matutils.py:737: FutureWarning: Conversion of the second argument of issubdtype from `int` to `np.signedinteger` is deprecated. In future, it will be treated as `np.int64 == np.dtype(int).type`.\n",
            "  if np.issubdtype(vec.dtype, np.int):\n"
          ],
          "name": "stderr"
        }
      ]
    },
    {
      "cell_type": "code",
      "metadata": {
        "id": "7NZFcjPqv6fR",
        "colab_type": "code",
        "colab": {}
      },
      "source": [
        ""
      ],
      "execution_count": 0,
      "outputs": []
    }
  ]
}